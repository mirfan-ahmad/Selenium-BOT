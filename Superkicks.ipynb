{
 "cells": [
  {
   "cell_type": "markdown",
   "id": "07d074cc",
   "metadata": {},
   "source": [
    "## Install Selenium"
   ]
  },
  {
   "cell_type": "code",
   "execution_count": null,
   "id": "acf8860f",
   "metadata": {},
   "outputs": [],
   "source": [
    "import importlib\n",
    "try:\n",
    "    importlib.import_module('selenium')\n",
    "    print('selenium is already installed')\n",
    "except:\n",
    "    !pip install scrapy\n",
    "    print('selenium is now installed')\n",
    "try:\n",
    "    importlib.import_module('anticaptchaofficial')\n",
    "    print('anticaptchaofficial is already installed')\n",
    "except:\n",
    "    !pip install anticaptchaofficial\n",
    "    print('anticaptchaofficial is now installed')\n",
    "try:\n",
    "    importlib.import_module('requests')\n",
    "    print('requests is already installed')\n",
    "except:\n",
    "    !pip install requests\n",
    "    print('requests is now installed')"
   ]
  },
  {
   "cell_type": "markdown",
   "id": "be7faf22",
   "metadata": {},
   "source": [
    "# Import Necessary Modules"
   ]
  },
  {
   "cell_type": "code",
   "execution_count": null,
   "id": "af3e9b9b",
   "metadata": {},
   "outputs": [],
   "source": [
    "from selenium import webdriver\n",
    "from selenium.webdriver.firefox.firefox_profile import FirefoxProfile\n",
    "from selenium.webdriver.firefox.service import Service\n",
    "from selenium.webdriver.firefox.options import Options\n",
    "from selenium.webdriver.support.ui import WebDriverWait\n",
    "from selenium.webdriver.support.ui import Select\n",
    "from selenium.webdriver.support import expected_conditions as EC\n",
    "from selenium.webdriver.common.by import By\n",
    "from selenium.common.exceptions import ElementClickInterceptedException, StaleElementReferenceException, NoSuchElementException, UnexpectedAlertPresentException, NoAlertPresentException\n",
    "from anticaptchaofficial.recaptchav3proxyless import *\n",
    "from time import sleep\n",
    "from random import randint"
   ]
  },
  {
   "cell_type": "markdown",
   "id": "16e6ce81",
   "metadata": {},
   "source": [
    "## Initialize the webdriver"
   ]
  },
  {
   "cell_type": "code",
   "execution_count": null,
   "id": "bf69f878",
   "metadata": {
    "scrolled": true
   },
   "outputs": [],
   "source": [
    "options = webdriver.FirefoxOptions()\n",
    "options.add_argument(\"--private-window\")\n",
    "driver = webdriver.Firefox(options=options)\n",
    "driver.maximize_window()"
   ]
  },
  {
   "cell_type": "markdown",
   "id": "1ea17429",
   "metadata": {},
   "source": [
    "## Open the Superkicks website"
   ]
  },
  {
   "cell_type": "code",
   "execution_count": null,
   "id": "758d9555",
   "metadata": {
    "scrolled": true
   },
   "outputs": [],
   "source": [
    "def redirect(URL):\n",
    "    wait = WebDriverWait(driver, 10)\n",
    "    driver.get(URL)\n",
    "    header = wait.until(EC.presence_of_element_located((By.ID, 'MegaMenu-Content-2')))\n",
    "    return wait"
   ]
  },
  {
   "cell_type": "markdown",
   "id": "6db80fad",
   "metadata": {},
   "source": [
    "# Login the Acoount"
   ]
  },
  {
   "cell_type": "code",
   "execution_count": null,
   "id": "2588bf60",
   "metadata": {},
   "outputs": [],
   "source": [
    "def login():\n",
    "    driver.get('https://www.superkicks.in/account/login')\n",
    "    login_form = driver.find_element(By.ID, 'customer_login')\n",
    "    fields = login_form.find_elements(By.CLASS_NAME, 'field')\n",
    "    try:\n",
    "        sleep(2)\n",
    "        fields[0].find_element(By.TAG_NAME, 'input').send_keys(USER_NAME)\n",
    "    except ElementClickInterceptedException:\n",
    "        close_add()\n",
    "        driver.switch_to.default_content()\n",
    "        sleep(2)\n",
    "        fields[0].find_element(By.TAG_NAME, 'input').send_keys(USER_NAME)\n",
    "    try:\n",
    "        sleep(3)\n",
    "        fields[1].find_element(By.TAG_NAME, 'input').send_keys(PASSWORD)\n",
    "    except ElementClickInterceptedException:\n",
    "        close_add()\n",
    "        driver.switch_to.default_content()\n",
    "        sleep(3)\n",
    "        fields[1].find_element(By.TAG_NAME, 'input').send_keys(PASSWORD)\n",
    "    button = driver.find_element(By.CLASS_NAME, 'button--full-width')\n",
    "    try:\n",
    "        sleep(2)\n",
    "        button.click()\n",
    "    except ElementClickInterceptedException:\n",
    "        login()\n",
    "    sleep(2)"
   ]
  },
  {
   "cell_type": "markdown",
   "id": "55b229b1",
   "metadata": {},
   "source": [
    "## Bypass recaptcha"
   ]
  },
  {
   "cell_type": "code",
   "execution_count": null,
   "id": "732f8777",
   "metadata": {},
   "outputs": [],
   "source": [
    "def send_token(g_response):\n",
    "    driver.execute_script(\"document.getElementById('g-recaptcha-response').value ='{}';\".format(g_response))\n",
    "    driver.find_element(By.XPATH, '/html/body/main/div/form/input[2]').click()\n",
    "        \n",
    "def bypass():\n",
    "    solver = recaptchaV3Proxyless()\n",
    "    solver.set_verbose(1)\n",
    "    solver.set_key(\"Enter Site Key\")\n",
    "    solver.set_website_url(\"Enter Page URL where Recaptcha exists\")\n",
    "    solver.set_website_key(\"Enter the Site Key of that Webpage\")\n",
    "    solver.set_page_action(\"home_page\")\n",
    "    solver.set_min_score(0.9)\n",
    "\n",
    "    solver.set_soft_id(0)\n",
    "    g_response = solver.solve_and_return_solution()\n",
    "    sleep(2)\n",
    "    try:\n",
    "        if g_response != 0:\n",
    "            print(\"g-response: \"+g_response)\n",
    "        else:\n",
    "            print(\"task finished with error \"+solver.error_code)\n",
    "            send_token(g_response)\n",
    "    except:\n",
    "        return g_response"
   ]
  },
  {
   "cell_type": "markdown",
   "id": "b8efda2c",
   "metadata": {},
   "source": [
    "# Place the Order"
   ]
  },
  {
   "cell_type": "code",
   "execution_count": null,
   "id": "d00bfec4",
   "metadata": {
    "scrolled": true
   },
   "outputs": [],
   "source": [
    "def extract_labels():\n",
    "    try:\n",
    "        fieldset = driver.find_element(By.XPATH, '/html/body/main/section[1]/section/div/div[2]/div/variant-radios/fieldset')\n",
    "        labels = fieldset.find_elements(By.CLASS_NAME, 'InStock')\n",
    "    except:\n",
    "        labels = Select(driver.find_element(By.ID, 'Variants-template--16732352872699__main'))\n",
    "        labels = labels.options\n",
    "    return labels\n",
    "\n",
    "def add_to_cart():\n",
    "    try:\n",
    "        product_form = driver.find_element(By.TAG_NAME, 'product-form').find_element(By.TAG_NAME, 'form')\n",
    "        add_to_cart = product_form.find_element(By.CLASS_NAME, 'product-form__buttons').find_element(By.TAG_NAME, 'button')\n",
    "        add_to_cart.click()\n",
    "    except ElementClickInterceptedException:\n",
    "        driver.refresh()\n",
    "        add_to_cart()\n",
    "\n",
    "def check_out(q):\n",
    "    try:\n",
    "        input_label = driver.find_element(By.ID, 'Drawer-quantity-1')\n",
    "        input_label.clear()\n",
    "        input_label.send_keys(q)\n",
    "        button = driver.find_element(By.ID, 'CartDrawer-Checkout')\n",
    "        button.click()\n",
    "    except:\n",
    "        driver.refresh()\n",
    "        driver.get(driver.find_element(By.ID, 'cart-icon-bubble').get_attribute('href'))\n",
    "        anchor = driver.find_element(By.XPATH, '/html/body/main/div/cart-items/div[1]/form/div/div/table/tbody/tr/td[4]/div[1]/cart-remove-button/a')\n",
    "        driver.get(anchor.get_attribute('href'))\n",
    "        sleep(2)\n",
    "        driver.get(URL)\n",
    "        place_order()\n",
    "\n",
    "def shipping():\n",
    "    try:\n",
    "        footer = driver.find_element(By.TAG_NAME, 'form').find_element(By.CLASS_NAME, 'step__footer')\n",
    "        shipping_info()\n",
    "        button = footer.find_element(By.TAG_NAME, 'button')\n",
    "        button.click()\n",
    "        return ''\n",
    "    except ElementClickInterceptedException:\n",
    "        refresh()\n",
    "        shipping()\n",
    "    except:\n",
    "        return 'No'\n",
    "\n",
    "def shipping_info():\n",
    "    driver.find_element(By.ID, 'checkout_email').send_keys(USER_NAME)\n",
    "    driver.find_element(By.ID, 'checkout_shipping_address_first_name').send_keys(FIRST_NAME)\n",
    "    driver.find_element(By.ID, 'checkout_shipping_address_last_name').send_keys(LAST_NAME)\n",
    "    driver.find_element(By.ID, 'checkout_shipping_address_address1').send_keys(ADDRESS)\n",
    "    driver.find_element(By.ID, 'checkout_shipping_address_address2').send_keys(APARTMENT)\n",
    "    driver.find_element(By.ID, 'checkout_shipping_address_city').send_keys(CITY)\n",
    "    dropdown = driver.find_element(By.ID, 'checkout_shipping_address_province')\n",
    "    select = Select(dropdown)\n",
    "    select.select_by_visible_text(STATE)\n",
    "    driver.find_element(By.ID, 'checkout_shipping_address_zip').send_keys(PIN_CODE)\n",
    "    driver.find_element(By.ID, 'checkout_shipping_address_phone').send_keys(PHONE_NO)\n",
    "\n",
    "def place_order(default=True):\n",
    "    try:\n",
    "        labels = extract_labels()\n",
    "    except:\n",
    "        driver.get(URL)\n",
    "        labels = extract_labels()\n",
    "        print('Error occured before label')\n",
    "    i = 0\n",
    "    while i < len(labels):\n",
    "        if labels[i].text in SIZE:\n",
    "            try:\n",
    "                labels[i].click()\n",
    "            except:\n",
    "                driver.get(URL)\n",
    "                labels = extract_labels()\n",
    "                print('Error occured after if statement')\n",
    "            labels[i].click()\n",
    "            i += 1\n",
    "            sleep(3)\n",
    "            add_to_cart()\n",
    "            sleep(5)\n",
    "            try:\n",
    "                check_out(QUANTITY[0])\n",
    "                print('Quantity = ', QUANTITY[0])\n",
    "                QUANTITY.pop(0)\n",
    "                print('after pop = ', QUANTITY)\n",
    "                sleep(1)\n",
    "                try:\n",
    "                    if shipping() == 'No':\n",
    "                        print('This Product has been Sold --> Out of Stock')\n",
    "                        break\n",
    "                except:\n",
    "                    pass\n",
    "            except StaleElementReferenceException or NoSuchElementException:\n",
    "                pass\n",
    "            except ElementClickInterceptedException:                \n",
    "                place_order(False)\n",
    "            paymant()\n",
    "            print('Your Order has been placed')\n",
    "            driver.get(URL)\n",
    "            labels = extract_labels()\n",
    "        else:\n",
    "            i += 1"
   ]
  },
  {
   "cell_type": "markdown",
   "id": "8170f878",
   "metadata": {},
   "source": [
    "## Pay the Amount"
   ]
  },
  {
   "cell_type": "code",
   "execution_count": null,
   "id": "8dadeb52",
   "metadata": {},
   "outputs": [],
   "source": [
    "def paymant():\n",
    "    button = driver.find_element(By.ID, 'continue_button')\n",
    "    button.click()\n",
    "    cashfree_payment = driver.find_element(By.XPATH, '/html/body/div[1]/div/div/main/div[1]/div/form/div[1]/div[2]/div[1]/fieldset/div[3]/div[2]/label')\n",
    "    cashfree_payment.click()\n",
    "    pay_button = driver.find_element(By.XPATH, '//*[@id=\"continue_button\"]')\n",
    "    pay_button.click()\n",
    "    skip = wait.until(EC.presence_of_element_located((By.XPATH, '//*[@id=\"dkp-container-main\"]/div[3]/div/div[2]/div/div[2]/div[1]/button')))\n",
    "    skip.click()\n",
    "    payment_methods = driver.find_element(By.XPATH, '//*[@id=\"dkp-container-main\"]/div[3]/div[1]').find_elements(By.TAG_NAME, 'h2')\n",
    "    for method in payment_methods:\n",
    "        if method.text == 'Card':\n",
    "            method.find_element(By.XPATH, '..').find_element(By.XPATH, '..').click()\n",
    "            \n",
    "            card_no = 4160210836812787\n",
    "            card_holder_name = 'raunka agarwal'\n",
    "            date = '02/27'\n",
    "            cvv = 451\n",
    "            \n",
    "            driver.find_element(By.ID, 'CardNumber1').send_keys(card_no)\n",
    "            driver.find_element(By.ID, 'CardHolderName1').send_keys(card_holder_name)\n",
    "            driver.find_element(By.ID, 'CardDate1').send_keys(date)\n",
    "            driver.find_element(By.ID, 'CVVFormatter1').send_keys(cvv)\n",
    "            \n",
    "            sleep(2)\n",
    "            pay = driver.find_element(By.XPATH, '//*[@id=\"dkp-container-main\"]/div[3]/div[2]/div[2]/div/div/form/div[9]/div/button')\n",
    "            pay.click()\n",
    "            submit = input(\"Have you entered the OTP and clicked on the Submit button, y/n? \")\n",
    "            return"
   ]
  },
  {
   "cell_type": "markdown",
   "id": "c4a83034",
   "metadata": {},
   "source": [
    "## Start the Bot"
   ]
  },
  {
   "cell_type": "code",
   "execution_count": null,
   "id": "923cebfb",
   "metadata": {
    "scrolled": false
   },
   "outputs": [],
   "source": [
    "if __name__ == \"__main__\":\n",
    "    URL = input('Enter the URL of Product= ')\n",
    "    \n",
    "    SIZE = input(\"Enter the Size you want to purchase: \") + ' '\n",
    "    SIZE = SIZE.split(' ')\n",
    "    \n",
    "    QUANTITY = input('Enter the quantity you want to purchase: ') + ' '\n",
    "    QUANTITY = QUANTITY.split(' ')\n",
    "    print(QUANTITY)\n",
    "    \n",
    "    wait = redirect(URL)\n",
    "    USER_NAME = 'abc@gmail.com'\n",
    "    PASSWORD = '*********'\n",
    "    PHONE_NO = '+923000000000'\n",
    "    ADDRESS = \"\"\n",
    "    APARTMENT = ''\n",
    "    CITY = ''\n",
    "    STATE = ''\n",
    "    PIN_CODE = 110065\n",
    "    COUNTRY = \"\"\n",
    "    FIRST_NAME = ''\n",
    "    LAST_NAME = ''\n",
    "\n",
    "    place_order()"
   ]
  }
 ],
 "metadata": {
  "kernelspec": {
   "display_name": "Python 3 (ipykernel)",
   "language": "python",
   "name": "python3"
  },
  "language_info": {
   "codemirror_mode": {
    "name": "ipython",
    "version": 3
   },
   "file_extension": ".py",
   "mimetype": "text/x-python",
   "name": "python",
   "nbconvert_exporter": "python",
   "pygments_lexer": "ipython3",
   "version": "3.11.2"
  }
 },
 "nbformat": 4,
 "nbformat_minor": 5
}
