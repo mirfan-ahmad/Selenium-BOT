{
 "cells": [
  {
   "cell_type": "markdown",
   "id": "07d074cc",
   "metadata": {},
   "source": [
    "## Install Selenium"
   ]
  },
  {
   "cell_type": "code",
   "execution_count": null,
   "id": "acf8860f",
   "metadata": {},
   "outputs": [],
   "source": [
    "import importlib\n",
    "try:\n",
    "    importlib.import_module('selenium')\n",
    "    print('selenium is already installed')\n",
    "except:\n",
    "    !pip install scrapy\n",
    "    print('selenium is now installed')\n",
    "try:\n",
    "    importlib.import_module('anticaptchaofficial')\n",
    "    print('anticaptchaofficial is already installed')\n",
    "except:\n",
    "    !pip install anticaptchaofficial\n",
    "    print('anticaptchaofficial is now installed')\n",
    "try:\n",
    "    importlib.import_module('webdriver_manager')\n",
    "    print('webdriver-manager is already installed')\n",
    "except:\n",
    "    !pip install webdriver-manager\n",
    "    print('webdriver-manager is now installed')\n",
    "try:\n",
    "    importlib.import_module('speech_recognition')\n",
    "    print('Speech Recognition is already installed')\n",
    "except:\n",
    "    !pip install SpeechRecognition\n",
    "    print('Speech Recognition is now installed')\n",
    "try:\n",
    "    importlib.import_module('fake_useragent')\n",
    "    print('fake_useragent is already installed')\n",
    "except:\n",
    "    !pip install fake-useragent\n",
    "    print('fake_useragent is now installed')"
   ]
  },
  {
   "cell_type": "markdown",
   "id": "be7faf22",
   "metadata": {},
   "source": [
    "# Import Necessary Modules"
   ]
  },
  {
   "cell_type": "code",
   "execution_count": null,
   "id": "af3e9b9b",
   "metadata": {},
   "outputs": [],
   "source": [
    "from selenium import webdriver\n",
    "from selenium.webdriver.chrome.service import Service\n",
    "from selenium.webdriver.chrome.options import Options\n",
    "from fake_useragent import UserAgent\n",
    "from selenium.webdriver.support.ui import WebDriverWait\n",
    "from selenium.webdriver.support import expected_conditions as EC\n",
    "from selenium.webdriver.common.by import By\n",
    "from selenium.common.exceptions import ElementClickInterceptedException, StaleElementReferenceException\n",
    "import speech_recognition as sr\n",
    "from random import randint\n",
    "from time import sleep"
   ]
  },
  {
   "cell_type": "markdown",
   "id": "16e6ce81",
   "metadata": {},
   "source": [
    "## Initialize the webdriver"
   ]
  },
  {
   "cell_type": "code",
   "execution_count": null,
   "id": "bf69f878",
   "metadata": {
    "scrolled": true
   },
   "outputs": [],
   "source": [
    "options = Options()\n",
    "ua = UserAgent()\n",
    "userAgent = ua.random\n",
    "options.add_argument(f'user-agent={userAgent}')\n",
    "ser = Service('/home/irfan/Downloads/chromedriver_linux64')\n",
    "driver = webdriver.Chrome(chrome_options=options, service=ser)\n",
    "driver.maximize_window()"
   ]
  },
  {
   "cell_type": "markdown",
   "id": "1ea17429",
   "metadata": {},
   "source": [
    "## Open the Superkicks website"
   ]
  },
  {
   "cell_type": "code",
   "execution_count": null,
   "id": "758d9555",
   "metadata": {
    "scrolled": true
   },
   "outputs": [],
   "source": [
    "driver.get(\"https://www.superkicks.in/account/login\")"
   ]
  },
  {
   "cell_type": "markdown",
   "id": "50827dcf",
   "metadata": {},
   "source": [
    "## Wait for the page to load"
   ]
  },
  {
   "cell_type": "code",
   "execution_count": null,
   "id": "c3ddaf32",
   "metadata": {},
   "outputs": [],
   "source": [
    "wait = WebDriverWait(driver, 10)\n",
    "header = wait.until(EC.presence_of_element_located((By.ID, 'MegaMenu-Content-2')))"
   ]
  },
  {
   "cell_type": "markdown",
   "id": "6db80fad",
   "metadata": {},
   "source": [
    "# Login the Acoount"
   ]
  },
  {
   "cell_type": "code",
   "execution_count": null,
   "id": "2588bf60",
   "metadata": {},
   "outputs": [],
   "source": [
    "def login():\n",
    "    sleep(2)\n",
    "    login_form = driver.find_element(By.ID, 'customer_login')\n",
    "    fields = login_form.find_elements(By.CLASS_NAME, 'field')\n",
    "    try:\n",
    "        fields[0].find_element(By.TAG_NAME, 'input').send_keys(USER_NAME)\n",
    "        sleep(3)\n",
    "    except ElementClickInterceptedException:\n",
    "        close_add()\n",
    "        sleep(1)\n",
    "        driver.switch_to.default_content()\n",
    "        fields[0].find_element(By.TAG_NAME, 'input').send_keys(USER_NAME)\n",
    "    try:\n",
    "        fields[1].find_element(By.TAG_NAME, 'input').send_keys(PASSWORD)\n",
    "        sleep(2)\n",
    "    except ElementClickInterceptedException:\n",
    "        close_add()\n",
    "        sleep(1)\n",
    "        driver.switch_to.default_content()\n",
    "        fields[1].find_element(By.TAG_NAME, 'input').send_keys(PASSWORD)\n",
    "    button = driver.find_element(By.CLASS_NAME, 'button--full-width')\n",
    "    try:\n",
    "        button.click()\n",
    "    except ElementClickInterceptedException:\n",
    "        close_add()\n",
    "        sleep(1)\n",
    "        driver.switch_to.default_content()\n",
    "        button.click()"
   ]
  },
  {
   "cell_type": "markdown",
   "id": "bc752788",
   "metadata": {},
   "source": [
    "## Bypass Recaptcha"
   ]
  },
  {
   "cell_type": "code",
   "execution_count": null,
   "id": "226828b6",
   "metadata": {},
   "outputs": [],
   "source": [
    "# Not Working - Have to Purchase the API Key and configure into 2nd file\n",
    "def bypass():\n",
    "    sleep(3)\n",
    "    label = driver.find_element(By.XPATH, '//*[@id=\"g-recaptcha\"]')\n",
    "    label.click()\n",
    "    sleep(5)\n",
    "    try:\n",
    "        submit = driver.find_element(By.XPATH, '//*[@id=\"MainContent\"]/div/form/input[2]')\n",
    "        submit.click()\n",
    "    except:\n",
    "        audio = driver.find_element(By.XPATH, '//*[@id=\"recaptcha-audio-button\"]')\n",
    "        audio.click()\n",
    "        link_file = driver.find_element(By.XPATH, '//*[@id=\"rc-audio\"]/div[7]/a').get_attribute('href')\n",
    "        driver.get(link_file)\n",
    "        audio_src = driver.find_element(By.TAG_NAME, 'source').get_attribute('src')\n",
    "        r = sr.Recognizer()\n",
    "        with sr.AudioFile(audio_src) as source:\n",
    "            audio_data = r.record(source)\n",
    "        text = \"\"\n",
    "        try:\n",
    "            text = r.recognize_google(audio_data)\n",
    "            \n",
    "            windows = driver.window_handles\n",
    "            driver.switch_to.window(windows[1])\n",
    "            \n",
    "            input_voice = driver.find_element(By.XPATH, '//*[@id=\"audio-response\"]')\n",
    "            input_voice.send_keys(text)\n",
    "            \n",
    "            verify = driver.find_element(By.XPATH, '//*[@id=\"recaptcha-verify-button\"]')\n",
    "            verify.click()\n",
    "            sleep(2)\n",
    "            \n",
    "            submit = driver.find_element(By.XPATH, '//*[@id=\"MainContent\"]/div/form/input[2]')\n",
    "            submit.click()\n",
    "        except sr.UnknownValueError:\n",
    "            print(\"Could not transcribe audio\")\n",
    "            exit()"
   ]
  },
  {
   "cell_type": "markdown",
   "id": "dc29b3ea",
   "metadata": {},
   "source": [
    "## Search for a product"
   ]
  },
  {
   "cell_type": "code",
   "execution_count": null,
   "id": "b06760ad",
   "metadata": {},
   "outputs": [],
   "source": [
    "def extract_int(text):\n",
    "    s = ''\n",
    "    for char in text:\n",
    "        if char.isdigit():\n",
    "            s += char\n",
    "    return int(s)\n",
    "\n",
    "def extract_pages(default=False):\n",
    "    tags = driver.find_elements(By.TAG_NAME, 'li')\n",
    "    button = tags[-17].find_element(By.TAG_NAME, 'a').text\n",
    "    if default:\n",
    "        driver.get(tags[-16].get_attribute('href'))\n",
    "        return\n",
    "    else:\n",
    "        return extract_int(button)\n",
    "\n",
    "def fetch_link(page):\n",
    "    driver.get(page)\n",
    "    lists = driver.find_element(By.ID, 'product-grid').find_elements(By.TAG_NAME, 'li')\n",
    "    for i in range(len(lists)):\n",
    "        try:\n",
    "            anchor = lists[i].find_element(By.CLASS_NAME, 'full-unstyled-link')\n",
    "            link = anchor.get_attribute('href')\n",
    "            place_order(link)\n",
    "            driver.get(page)\n",
    "            lists = driver.find_element(By.ID, 'product-grid').find_elements(By.TAG_NAME, 'li')\n",
    "        except ElementClickInterceptedException:\n",
    "            close_add()\n",
    "            driver.switch_to.default_content()\n",
    "            fetch_link(page)\n",
    "\n",
    "def extract_products(MENS_SNEAKER, WOMENS_SNEAKER):\n",
    "    sneakers = [MENS_SNEAKER, WOMENS_SNEAKER]\n",
    "    driver.get(MENS_SNEAKER+'1')\n",
    "    men_wear_pages = extract_pages()\n",
    "    driver.get(WOMENS_SNEAKER+'1')\n",
    "    women_wear_pages = extract_pages()\n",
    "    for i in range(1, men_wear_pages+1):\n",
    "        driver.get(MENS_SNEAKER+f'{i}')\n",
    "        fetch_link(MENS_SNEAKER+f'{i}')\n",
    "    \n",
    "    for k in range(1, women_wear_pages+1):\n",
    "        driver.get(WOMENS_SNEAKER+f'{k}')\n",
    "        fetch_link()"
   ]
  },
  {
   "cell_type": "markdown",
   "id": "b8efda2c",
   "metadata": {},
   "source": [
    "# Place the Order"
   ]
  },
  {
   "cell_type": "code",
   "execution_count": null,
   "id": "d00bfec4",
   "metadata": {
    "scrolled": true
   },
   "outputs": [],
   "source": [
    "def close_add():\n",
    "    sleep(1)\n",
    "    link = driver.switch_to.frame(driver.find_element(By.XPATH, '//*[@id=\"WigzoPopUpWrapper\"]/a').get_attribute('href'))\n",
    "    driver.get(link)\n",
    "\n",
    "def extract_labels():\n",
    "    fieldset = driver.find_element(By.XPATH, '//*[@id=\"ProductInfo-template--16732352872699__main\"]/variant-radios/fieldset')\n",
    "    labels = fieldset.find_elements(By.TAG_NAME, 'label')\n",
    "    return labels\n",
    "\n",
    "def add_to_cart():\n",
    "    try:\n",
    "        product_form = driver.find_element(By.TAG_NAME, 'product-form').find_element(By.TAG_NAME, 'form')\n",
    "        add_to_cart = product_form.find_element(By.CLASS_NAME, 'product-form__buttons').find_element(By.TAG_NAME, 'button')\n",
    "        add_to_cart.click()\n",
    "    except ElementClickInterceptedException:\n",
    "        close_add()\n",
    "        driver.switch_to.default_content()\n",
    "        add_to_cart()\n",
    "\n",
    "def check_out():\n",
    "    try:\n",
    "        input_label = driver.find_element(By.XPATH, '//*[@id=\"Drawer-quantity-1\"]')\n",
    "        input_label.clear()\n",
    "        input_label.send_keys(randint(1, 2))\n",
    "        button = driver.find_element(By.XPATH, '//*[@id=\"CartDrawer-Checkout\"]')\n",
    "        button.click()\n",
    "    except:\n",
    "        close_add()\n",
    "        driver.switch_to.default_content()\n",
    "        check_out()\n",
    "\n",
    "def shipping():\n",
    "    try:\n",
    "        footer = driver.find_element(By.TAG_NAME, 'form').find_element(By.CLASS_NAME, 'step__footer')\n",
    "        button = footer.find_element(By.TAG_NAME, 'button')\n",
    "        button.click()\n",
    "    except ElementClickInterceptedException:\n",
    "        close_add()\n",
    "        driver.switch_to.default_content()\n",
    "        shipping()\n",
    "    except:\n",
    "        pass\n",
    "\n",
    "def place_order(link):\n",
    "    driver.get(link)\n",
    "    labels = extract_labels()\n",
    "    for i in range(len(labels)):\n",
    "        labels[i].click()\n",
    "        sleep(5)\n",
    "        add_to_cart()\n",
    "        sleep(3)\n",
    "        try:\n",
    "            check_out()\n",
    "            sleep(2)\n",
    "            shipping()\n",
    "            print('Your Order has been placed')\n",
    "        except StaleElementReferenceException:\n",
    "            pass\n",
    "        driver.get(link)\n",
    "        labels = extract_labels()"
   ]
  },
  {
   "cell_type": "markdown",
   "id": "c4a83034",
   "metadata": {},
   "source": [
    "## Start the Bot"
   ]
  },
  {
   "cell_type": "code",
   "execution_count": null,
   "id": "923cebfb",
   "metadata": {
    "scrolled": false
   },
   "outputs": [],
   "source": [
    "if __name__ == \"__main__\":\n",
    "    USER_NAME = 'abc@gmail.com'\n",
    "    PASSWORD = '**********'\n",
    "    login()\n",
    "    input('Are you login')\n",
    "    MENS_SNEAKER = 'https://www.superkicks.in/collections/men-sneakers?filter.v.availability=1&page='\n",
    "    WOMENS_SNEAKER = 'https://www.superkicks.in/collections/women-sneakers?filter.v.availability=1&page='\n",
    "    extract_products(MENS_SNEAKER, WOMENS_SNEAKER)"
   ]
  }
 ],
 "metadata": {
  "kernelspec": {
   "display_name": "Python 3 (ipykernel)",
   "language": "python",
   "name": "python3"
  },
  "language_info": {
   "codemirror_mode": {
    "name": "ipython",
    "version": 3
   },
   "file_extension": ".py",
   "mimetype": "text/x-python",
   "name": "python",
   "nbconvert_exporter": "python",
   "pygments_lexer": "ipython3",
   "version": "3.11.2"
  }
 },
 "nbformat": 4,
 "nbformat_minor": 5
}
